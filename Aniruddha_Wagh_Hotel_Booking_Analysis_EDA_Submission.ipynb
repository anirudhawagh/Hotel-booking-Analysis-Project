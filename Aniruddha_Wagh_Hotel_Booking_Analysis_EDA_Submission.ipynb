{
  "nbformat": 4,
  "nbformat_minor": 0,
  "metadata": {
    "colab": {
      "private_outputs": true,
      "provenance": [],
      "collapsed_sections": [
        "mDgbUHAGgjLW",
        "448CDAPjqfQr",
        "KSlN3yHqYklG",
        "t6dVpIINYklI",
        "ijmpgYnKYklI",
        "-JiQyfWJYklI",
        "EM7whBJCYoAo",
        "fge-S5ZAYoAp",
        "85gYPyotYoAp",
        "RoGjAbkUYoAp",
        "4Of9eVA-YrdM",
        "iky9q4vBYrdO",
        "F6T5p64dYrdO",
        "y-Ehk30pYrdP",
        "bamQiAODYuh1",
        "QHF8YVU7Yuh3",
        "GwzvFGzlYuh3",
        "qYpmQ266Yuh3",
        "OH-pJp9IphqM",
        "bbFf2-_FphqN",
        "_ouA3fa0phqN",
        "Seke61FWphqN",
        "PIIx-8_IphqN",
        "t27r6nlMphqO",
        "r2jJGEOYphqO",
        "b0JNsNcRphqO",
        "BZR9WyysphqO",
        "jj7wYXLtphqO",
        "eZrbJ2SmphqO",
        "rFu4xreNphqO",
        "YJ55k-q6phqO",
        "gCFgpxoyphqP",
        "OVtJsKN_phqQ",
        "lssrdh5qphqQ",
        "U2RJ9gkRphqQ",
        "1M8mcRywphqQ",
        "tgIPom80phqQ",
        "JMzcOPDDphqR",
        "x-EpHcCOp1ci",
        "X_VqEhTip1ck",
        "8zGJKyg5p1ck",
        "PVzmfK_Ep1ck",
        "n3dbpmDWp1ck",
        "ylSl6qgtp1ck",
        "ZWILFDl5p1ck",
        "M7G43BXep1ck",
        "Ag9LCva-p1cl",
        "E6MkPsBcp1cl",
        "2cELzS2fp1cl",
        "3MPXvC8up1cl",
        "NC_X3p0fY2L0",
        "UV0SzAkaZNRQ",
        "YPEH6qLeZNRQ",
        "q29F0dvdveiT",
        "EXh0U9oCveiU",
        "22aHeOlLveiV",
        "JcMwzZxoAimU",
        "8G2x9gOozGDZ",
        "gCX9965dhzqZ",
        "gIfDvo9L0UH2"
      ],
      "include_colab_link": true
    },
    "kernelspec": {
      "name": "python3",
      "display_name": "Python 3"
    },
    "language_info": {
      "name": "python"
    },
    "accelerator": "GPU",
    "gpuClass": "standard"
  },
  "cells": [
    {
      "cell_type": "markdown",
      "metadata": {
        "id": "view-in-github",
        "colab_type": "text"
      },
      "source": [
        "<a href=\"https://colab.research.google.com/github/anirudhawagh/Hotel-booking-Analysis-Project/blob/main/Aniruddha_Wagh_Hotel_Booking_Analysis_EDA_Submission.ipynb\" target=\"_parent\"><img src=\"https://colab.research.google.com/assets/colab-badge.svg\" alt=\"Open In Colab\"/></a>"
      ]
    },
    {
      "cell_type": "markdown",
      "source": [
        "# **Project Name**    - Hotel Booking Analysis\n",
        "\n"
      ],
      "metadata": {
        "id": "vncDsAP0Gaoa"
      }
    },
    {
      "cell_type": "markdown",
      "source": [
        "##### **Project Type**    - EDA/Regression/Classification/Unsupervised\n",
        "##### **Contribution**    - Individual\n"
      ],
      "metadata": {
        "id": "beRrZCGUAJYm"
      }
    },
    {
      "cell_type": "markdown",
      "source": [
        "# **Project Summary -**"
      ],
      "metadata": {
        "id": "FJNUwmbgGyua"
      }
    },
    {
      "cell_type": "markdown",
      "source": [
        "This project focuses on the analysis of hotel booking data for two types of hotels - City Hotel and Resort Hotel. The dataset used in this project contains a total of 119390 rows and 32 columns. The project is divided into three main categories: **'Data Collection phase', 'Data Cleaning and Manipulation phase' and 'Exploratory Data Analysis (EDA)phase'.**\n",
        "\n",
        "In the **Data Collection phase**, various methods were used to explore the columns in the dataset, including **head(), tail(), info(), describe(),** and **columns()**. The relevant columns in the dataset include **hotel,** **is_canceled, lead_time, arrival_date_year, arrival_date_month, arrival_date_week_number, arrival_date_day_of_month, and stays_in_weekend_nights.**\n",
        "\n",
        "In the **Data Cleaning and Manipulation phase**, the data types of the columns were checked and corrected as needed. Duplicate data items were also removed, with **87396** duplicates dropped from the dataset.\n",
        "\n",
        "In the** EDA phase**, the data was prepared for visualization by checking for null values and filling or dropping columns as necessary. Various charts and visualizations were used to gain insights and achieve the project's business objectives.\n",
        "\n",
        "Overall, this project provides a comprehensive analysis of the hotel booking data for two types of hotels, using a range of data cleaning, manipulation, and visualization techniques to gain valuable insights into the industry.\n",
        "\n",
        "\n"
      ],
      "metadata": {
        "id": "F6v_1wHtG2nS"
      }
    },
    {
      "cell_type": "markdown",
      "source": [
        "# **GitHub Link -** "
      ],
      "metadata": {
        "id": "w6K7xa23Elo4"
      }
    },
    {
      "cell_type": "markdown",
      "source": [
        "https://github.com/anirudhawagh/Hotel-booking-Analysis-Project/blob/main/Aniruddha_Wagh_Hotel_Booking_Analysis_EDA_Submission.ipynb"
      ],
      "metadata": {
        "id": "h1o69JH3Eqqn"
      }
    },
    {
      "cell_type": "markdown",
      "source": [
        "# **Problem Statement**\n"
      ],
      "metadata": {
        "id": "yQaldy8SH6Dl"
      }
    },
    {
      "cell_type": "markdown",
      "source": [
        "Have you ever wondered when the best time of year to book a hotel room is? Or the optimal length of stay in order to get the best daily rate? What if you wanted to predict whether or not a hotel was likely to receive a disproportionately high number of special requests? This hotel booking dataset can help you explore those questions! This data set contains booking information for a city hotel and a resort hotel, and includes information such as when the booking was made, length of stay, the number of adults, children, and/or babies, and the number of available parking spaces, among other things. All personally identifying information has been removed from the data. Explore and analyze the data to discover important factors that govern the bookings.\n",
        "\n",
        "Business Task\n",
        "Analyse the data on bookings of City Hotel and Resort Hotel to gain insights on the different factors that affect the booking. This is undertaken as an individual project."
      ],
      "metadata": {
        "id": "DpeJGUA3kjGy"
      }
    },
    {
      "cell_type": "markdown",
      "source": [
        "#### **Define Your Business Objective?**"
      ],
      "metadata": {
        "id": "PH-0ReGfmX4f"
      }
    },
    {
      "cell_type": "markdown",
      "source": [
        "Analyse the data on bookings of City Hotel and Resort Hotel to gain insights on the different factors that affect the booking. This is undertaken as an individual project."
      ],
      "metadata": {
        "id": "PhDvGCAqmjP1"
      }
    },
    {
      "cell_type": "markdown",
      "source": [
        "# **General Guidelines** : -  "
      ],
      "metadata": {
        "id": "mDgbUHAGgjLW"
      }
    },
    {
      "cell_type": "markdown",
      "source": [
        "1.   Well-structured, formatted, and commented code is required. \n",
        "2.   Exception Handling, Production Grade Code & Deployment Ready Code will be a plus. Those students will be awarded some additional credits. \n",
        "     \n",
        "     The additional credits will have advantages over other students during Star Student selection.\n",
        "       \n",
        "             [ Note: - Deployment Ready Code is defined as, the whole .ipynb notebook should be executable in one go\n",
        "                       without a single error logged. ]\n",
        "\n",
        "3.   Each and every logic should have proper comments.\n",
        "4. You may add as many number of charts you want. Make Sure for each and every chart the following format should be answered.\n",
        "        \n",
        "\n",
        "```\n",
        "# Chart visualization code\n",
        "```\n",
        "            \n",
        "\n",
        "*   Why did you pick the specific chart?\n",
        "*   What is/are the insight(s) found from the chart?\n",
        "* Will the gained insights help creating a positive business impact? \n",
        "Are there any insights that lead to negative growth? Justify with specific reason.\n",
        "\n",
        "5. You have to create at least 20 logical & meaningful charts having important insights.\n",
        "\n",
        "\n",
        "[ Hints : - Do the Vizualization in  a structured way while following \"UBM\" Rule. \n",
        "\n",
        "U - Univariate Analysis,\n",
        "\n",
        "B - Bivariate Analysis (Numerical - Categorical, Numerical - Numerical, Categorical - Categorical)\n",
        "\n",
        "M - Multivariate Analysis\n",
        " ]\n",
        "\n",
        "\n",
        "\n"
      ],
      "metadata": {
        "id": "ZrxVaUj-hHfC"
      }
    },
    {
      "cell_type": "markdown",
      "source": [
        "# ***Let's Begin !***"
      ],
      "metadata": {
        "id": "O_i_v8NEhb9l"
      }
    },
    {
      "cell_type": "markdown",
      "source": [
        "## ***1. Know Your Data***"
      ],
      "metadata": {
        "id": "HhfV-JJviCcP"
      }
    },
    {
      "cell_type": "code",
      "source": [],
      "metadata": {
        "id": "Bbd_J9gURTdG"
      },
      "execution_count": null,
      "outputs": []
    },
    {
      "cell_type": "markdown",
      "source": [
        "### Import Libraries"
      ],
      "metadata": {
        "id": "Y3lxredqlCYt"
      }
    },
    {
      "cell_type": "code",
      "source": [
        "# Import Libraries\n",
        "import numpy as np\n",
        "import pandas as pd\n",
        "import matplotlib.pyplot as plt\n",
        "%matplotlib inline\n",
        "from datetime import datetime\n",
        "import seaborn as sns\n",
        "import ast "
      ],
      "metadata": {
        "id": "M8Vqi-pPk-HR"
      },
      "execution_count": null,
      "outputs": []
    },
    {
      "cell_type": "code",
      "source": [
        "from google.colab import drive\n",
        "drive.mount('/content/drive')"
      ],
      "metadata": {
        "id": "4CkvbW_SlZ_R"
      },
      "execution_count": null,
      "outputs": []
    },
    {
      "cell_type": "markdown",
      "source": [
        "Dataset Link=https://drive.google.com/file/d/1C9AxF9fcVzMw0Bgs0NaRrNML2WwX1Ehm/view"
      ],
      "metadata": {
        "id": "kSsJQsx0ohpY"
      }
    },
    {
      "cell_type": "markdown",
      "source": [
        "### Dataset Loading"
      ],
      "metadata": {
        "id": "3RnN4peoiCZX"
      }
    },
    {
      "cell_type": "code",
      "source": [
        "# Load Dataset\n",
        "database ='/content/drive/MyDrive/Hotel Bookings.csv' \n",
        "hotel_booking =pd.read_csv(database)"
      ],
      "metadata": {
        "id": "IYy5ykqppJxP"
      },
      "execution_count": null,
      "outputs": []
    },
    {
      "cell_type": "markdown",
      "source": [
        "### Dataset First View"
      ],
      "metadata": {
        "id": "x71ZqKXriCWQ"
      }
    },
    {
      "cell_type": "code",
      "source": [
        "# Dataset First Look\n",
        "hotel_booking"
      ],
      "metadata": {
        "id": "LWNFOSvLl09H"
      },
      "execution_count": null,
      "outputs": []
    },
    {
      "cell_type": "markdown",
      "source": [
        "### Dataset Rows & Columns count"
      ],
      "metadata": {
        "id": "7hBIi_osiCS2"
      }
    },
    {
      "cell_type": "code",
      "source": [
        "# Dataset Rows & Columns count\n",
        "print(hotel_booking.index)\n",
        "print('\\n')\n",
        "print(hotel_booking.columns)"
      ],
      "metadata": {
        "id": "Kllu7SJgmLij"
      },
      "execution_count": null,
      "outputs": []
    },
    {
      "cell_type": "markdown",
      "source": [
        "### Dataset Information"
      ],
      "metadata": {
        "id": "JlHwYmJAmNHm"
      }
    },
    {
      "cell_type": "code",
      "source": [
        "# Dataset Info\n",
        "hotel_booking.info()"
      ],
      "metadata": {
        "id": "e9hRXRi6meOf"
      },
      "execution_count": null,
      "outputs": []
    },
    {
      "cell_type": "markdown",
      "source": [
        "#### Duplicate Values"
      ],
      "metadata": {
        "id": "35m5QtbWiB9F"
      }
    },
    {
      "cell_type": "code",
      "source": [
        "# Dataset Duplicate Value Count\n",
        "hotel_booking.drop_duplicates(inplace = True)\n",
        "\n",
        "# total rows = 119390, Duplicate Rows = 31994\n",
        "uni_num_of_rows = hotel_booking.shape[0]\n",
        "\n",
        "uni_num_of_rows # now unique rows = 87396"
      ],
      "metadata": {
        "id": "1sLdpKYkmox0"
      },
      "execution_count": null,
      "outputs": []
    },
    {
      "cell_type": "code",
      "source": [
        "hotel_booking.reset_index() # View unique data"
      ],
      "metadata": {
        "id": "tNkSb1SE_XNe"
      },
      "execution_count": null,
      "outputs": []
    },
    {
      "cell_type": "markdown",
      "source": [
        "#### Missing Values/Null Values"
      ],
      "metadata": {
        "id": "PoPl-ycgm1ru"
      }
    },
    {
      "cell_type": "code",
      "source": [
        "# Missing Values/Null Values Count\n",
        "null_value = hotel_booking.isnull() == True\n",
        "hotel_booking.fillna(np.nan, inplace = True)\n",
        "\n",
        "hotel_booking # we replace all the null value as NaN."
      ],
      "metadata": {
        "id": "GgHWkxvamxVg"
      },
      "execution_count": null,
      "outputs": []
    },
    {
      "cell_type": "code",
      "source": [
        "# Visualizing the missing values\n",
        "miss_values =hotel_booking.isnull().sum().sort_values(ascending=False)\n",
        "miss_values # We have check the count of null value in individual columns"
      ],
      "metadata": {
        "id": "3q5wnI3om9sJ"
      },
      "execution_count": null,
      "outputs": []
    },
    {
      "cell_type": "markdown",
      "source": [
        "### What did you know about your dataset?"
      ],
      "metadata": {
        "id": "H0kj-8xxnORC"
      }
    },
    {
      "cell_type": "markdown",
      "source": [
        "This dataset compares booking information for a city hotel and a resort hotel. It contains 119,390 rows and 32 columns, with 31,944 duplicate rows removed. The dataset includes information such as booking dates, length of stay, number of adults, children, and babies, and available parking spaces. Each column contains data of different types, such as integer, floating-point, or string values. It was observed that some columns had inaccurate data types, which were corrected later. The unique values for each column were also determined."
      ],
      "metadata": {
        "id": "gfoNAAC-nUe_"
      }
    },
    {
      "cell_type": "markdown",
      "source": [
        "## ***2. Understanding Your Variables***"
      ],
      "metadata": {
        "id": "nA9Y7ga8ng1Z"
      }
    },
    {
      "cell_type": "code",
      "source": [
        "# Dataset Columns\n",
        "df_column = hotel_booking.columns\n",
        "df_column"
      ],
      "metadata": {
        "id": "j7xfkqrt5Ag5"
      },
      "execution_count": null,
      "outputs": []
    },
    {
      "cell_type": "code",
      "source": [
        "# Dataset Describe\n",
        "hotel_booking.describe()"
      ],
      "metadata": {
        "id": "DnOaZdaE5Q5t"
      },
      "execution_count": null,
      "outputs": []
    },
    {
      "cell_type": "markdown",
      "source": [
        "### Variables Description "
      ],
      "metadata": {
        "id": "PBTbrJXOngz2"
      }
    },
    {
      "cell_type": "markdown",
      "source": [
        "The columns and the data it represents are listed below:\n",
        "\n",
        "1)hotel : Name of the hotel (Resort Hotel or City Hotel)\n",
        "\n",
        "2)is_canceled : If the booking was canceled (1) or not (0)\n",
        "\n",
        "3)lead_time: Number of days before the actual arrival of the guests\n",
        "\n",
        "4)arrival_date_year : Year of arrival date\n",
        "\n",
        "5)arrival_date_month : Month of month arrival date\n",
        "\n",
        "6)arrival_date_week_number : Week number of year for arrival date\n",
        "\n",
        "7)arrival_date_day_of_month : Day of arrival date\n",
        "\n",
        "8)stays_in_weekend_nights : Number of weekend nights (Saturday or Sunday) spent at the hotel by the guests.\n",
        "\n",
        "9)stays_in_week_nights : Number of weeknights (Monday to Friday) spent at the hotel by the guests.\n",
        "\n",
        "10)adults : Number of adults among guests\n",
        "\n",
        "11)children : Number of children among guests\n",
        "\n",
        "12)babies : Number of babies among guests\n",
        "\n",
        "13)meal : Type of meal booked\n",
        "\n",
        "14)country : Country of guests\n",
        "\n",
        "15)market_segment : Designation of market segment\n",
        "\n",
        "16)distribution_channel : Name of booking distribution channel\n",
        "\n",
        "17)is_repeated_guest : If the booking was from a repeated guest (1) or not (0)\n",
        "\n",
        "18)previous_cancellations : Number of previous hotel_booking that were cancelled by the customer prior to the current booking\n",
        "\n",
        "19)previous_hotel_booking_not_canceled : Number of previous hotel_booking not cancelled by the customer prior to the current booking\n",
        "\n",
        "20)reserved_room_type : Code of room type reserved\n",
        "\n",
        "21)assigned_room_type : Code of room type assigned\n",
        "\n",
        "22)booking_changes : Number of changes/amendments made to the booking\n",
        "\n",
        "23)deposit_type : Type of the deposit made by the guest\n",
        "\n",
        "24)agent : ID of travel agent who made the booking\n",
        "\n",
        "25)company : ID of the company that made the booking\n",
        "\n",
        "26)days_in_waiting_list : Number of days the booking was in the waiting list\n",
        "\n",
        "27)customer_type : Type of customer, assuming one of four categories\n",
        "\n",
        "28)adr : Average Daily Rate, as defined by dividing the sum of all lodging transactions by the total number of staying nights\n",
        "\n",
        "29)required_car_parking_spaces : Number of car parking spaces required by the customer\n",
        "\n",
        "30)total_of_special_requests : Number of special requests made by the customer\n",
        "\n",
        "31)reservation_status : Reservation status (Canceled, Check-Out or No-Show)\n",
        "\n",
        "32)reservation_status_date : Date at which the last reservation status was updated"
      ],
      "metadata": {
        "id": "aJV4KIxSnxay"
      }
    },
    {
      "cell_type": "markdown",
      "source": [
        "### Check Unique Values for each variable."
      ],
      "metadata": {
        "id": "u3PMJOP6ngxN"
      }
    },
    {
      "cell_type": "code",
      "source": [
        "# Check Unique Values for each variable.\n",
        "print(hotel_booking.apply(lambda col: col.unique()))"
      ],
      "metadata": {
        "id": "zms12Yq5n-jE"
      },
      "execution_count": null,
      "outputs": []
    },
    {
      "cell_type": "markdown",
      "source": [
        "## 3. ***Data Wrangling***"
      ],
      "metadata": {
        "id": "dauF4eBmngu3"
      }
    },
    {
      "cell_type": "markdown",
      "source": [
        "**Data Cleaning**"
      ],
      "metadata": {
        "id": "bDC-qmYAO6pi"
      }
    },
    {
      "cell_type": "code",
      "source": [
        "#to fill the NaN value in the column, let's check which colomns has null value, we have already stored the same.\n",
        "miss_values[:4]\n"
      ],
      "metadata": {
        "id": "wk-9a2fpoLcV"
      },
      "execution_count": null,
      "outputs": []
    },
    {
      "cell_type": "code",
      "source": [
        "#lets check, what is the percentage of null value in each column, starting from company\n",
        "\n",
        "percentage_company_null = miss_values[0] / uni_num_of_rows*100\n",
        "percentage_company_null"
      ],
      "metadata": {
        "id": "24hK2VpKPayr"
      },
      "execution_count": null,
      "outputs": []
    },
    {
      "cell_type": "code",
      "source": [
        "# It is better to drop the column 'company' altogether since the number of missing values is extremely high compared to the number of rows.\n",
        "\n",
        "hotel_booking.drop(['company'], axis=1, inplace=True)"
      ],
      "metadata": {
        "id": "1RRn4NkhPdXC"
      },
      "execution_count": null,
      "outputs": []
    },
    {
      "cell_type": "code",
      "source": [
        "# now let's check for agent\n",
        "\n",
        "percentage_agent_null = miss_values[1] / uni_num_of_rows*100\n",
        "percentage_agent_null"
      ],
      "metadata": {
        "id": "QWtnYJeVPpB5"
      },
      "execution_count": null,
      "outputs": []
    },
    {
      "cell_type": "code",
      "source": [
        "# As we have seen, there is minimul null values in agent, Lets fill these value by taking mode of the all values\n",
        "\n",
        "hotel_booking['agent'].fillna(value = 0, inplace = True)\n",
        "hotel_booking['agent'].isnull().sum() # we re-check that column has no null value"
      ],
      "metadata": {
        "id": "LKOuuSvsPrHe"
      },
      "execution_count": null,
      "outputs": []
    },
    {
      "cell_type": "code",
      "source": [
        "#Check the percentage null value in country col\n",
        "\n",
        "percentage_country_null = miss_values[2] / uni_num_of_rows*100\n",
        "percentage_country_null"
      ],
      "metadata": {
        "id": "KoEuLx4XPw0n"
      },
      "execution_count": null,
      "outputs": []
    },
    {
      "cell_type": "code",
      "source": [
        "# We have less null vlues in country col, so we will replace null from 'other' as country name.\n",
        "\n",
        "hotel_booking['country'].fillna(value = 'others', inplace = True)\n",
        "hotel_booking['country'].isnull().sum() # we re-check that column has no null value"
      ],
      "metadata": {
        "id": "M3GnjunNQVJ5"
      },
      "execution_count": null,
      "outputs": []
    },
    {
      "cell_type": "code",
      "source": [
        "#Check the percentage null value in children col\n",
        "\n",
        "percentage_children_null = miss_values[3] / uni_num_of_rows*100\n",
        "percentage_children_null"
      ],
      "metadata": {
        "id": "IULjANp8QZXy"
      },
      "execution_count": null,
      "outputs": []
    },
    {
      "cell_type": "code",
      "source": [
        "# We have less null vlues in country col, so we will replace null from 0 as country name.\n",
        "\n",
        "hotel_booking['children'].fillna(value = 0, inplace = True)\n",
        "hotel_booking['children'].isnull().sum() # we re-check that column has no null value"
      ],
      "metadata": {
        "id": "iMX8SJeYQbV2"
      },
      "execution_count": null,
      "outputs": []
    },
    {
      "cell_type": "code",
      "source": [
        "#let's check whether database having any other null value\n",
        "\n",
        "hotel_booking.isnull().sum() # As we have seen, no column has any null value"
      ],
      "metadata": {
        "id": "025AJy4SQjCu"
      },
      "execution_count": null,
      "outputs": []
    },
    {
      "cell_type": "markdown",
      "source": [
        "**Change in datatype for required columns**"
      ],
      "metadata": {
        "id": "4-uFR__JQxur"
      }
    },
    {
      "cell_type": "code",
      "source": [
        "#showing the info of the data to check datatype\n",
        "hotel_booking.info()"
      ],
      "metadata": {
        "id": "OVqc01NqQu65"
      },
      "execution_count": null,
      "outputs": []
    },
    {
      "cell_type": "code",
      "source": [
        "# We have seen that childer & agent column as datatype as float whereas it contains only int value, lets change datatype as 'int64'\n",
        "hotel_booking[['children', 'agent']] = hotel_booking[['children', 'agent']].astype('int64')"
      ],
      "metadata": {
        "id": "xGXoLRb7RGnQ"
      },
      "execution_count": null,
      "outputs": []
    },
    {
      "cell_type": "markdown",
      "source": [
        "**Addition of new column as per requirement**"
      ],
      "metadata": {
        "id": "07lShV9hRMVS"
      }
    },
    {
      "cell_type": "code",
      "source": [
        "#total stay in nights\n",
        "hotel_booking['total_stay_in_nights'] = hotel_booking ['stays_in_week_nights'] + hotel_booking ['stays_in_weekend_nights']\n",
        "hotel_booking['total_stay_in_nights'] # We have created a col for total stays in nights by adding week night & weekend nights stay col."
      ],
      "metadata": {
        "id": "eTdIJdn7RI_k"
      },
      "execution_count": null,
      "outputs": []
    },
    {
      "cell_type": "code",
      "source": [
        "# We have created a col for revenue using total stay * adr\n",
        "hotel_booking['revenue'] = hotel_booking['total_stay_in_nights'] *hotel_booking['adr']\n",
        "hotel_booking['revenue']"
      ],
      "metadata": {
        "id": "jQDYYwfLRVhM"
      },
      "execution_count": null,
      "outputs": []
    },
    {
      "cell_type": "code",
      "source": [
        "# Also, for information, we will add a column with total guest coming for each booking\n",
        "hotel_booking['total_guest'] = hotel_booking['adults'] + hotel_booking['children'] + hotel_booking['babies']\n",
        "hotel_booking['total_guest'].sum()"
      ],
      "metadata": {
        "id": "X9WdZeDNRcZw"
      },
      "execution_count": null,
      "outputs": []
    },
    {
      "cell_type": "code",
      "source": [
        "# for understanding, from col 'is_canceled': we will replace the value from (0,1) to not_canceled, is canceled.\n",
        "\n",
        "hotel_booking['is_canceled'] = hotel_booking['is_canceled'].replace([0,1], ['not canceled', 'is canceled'])\n",
        "hotel_booking['is_canceled']"
      ],
      "metadata": {
        "id": "KmRcxd_4RhHi"
      },
      "execution_count": null,
      "outputs": []
    },
    {
      "cell_type": "code",
      "source": [
        "#Same for 'is_repeated_guest' col\n",
        "hotel_booking['is_repeated_guest'] = hotel_booking['is_repeated_guest'].replace([0,1], ['not repeated', 'repeated'])\n",
        "hotel_booking['is_repeated_guest']"
      ],
      "metadata": {
        "id": "20FkexJuRk-S"
      },
      "execution_count": null,
      "outputs": []
    },
    {
      "cell_type": "code",
      "source": [
        "#Now, we will check overall revenue hotel wise\n",
        "hotel_wise_total_revenue = hotel_booking.groupby('hotel')['revenue'].sum()\n",
        "hotel_wise_total_revenue"
      ],
      "metadata": {
        "id": "JFDVQvfkRpbC"
      },
      "execution_count": null,
      "outputs": []
    },
    {
      "cell_type": "code",
      "source": [
        "hotel_booking[['hotel', \"revenue\"]]"
      ],
      "metadata": {
        "id": "ZKc0Wb7jRt6i"
      },
      "execution_count": null,
      "outputs": []
    },
    {
      "cell_type": "markdown",
      "source": [
        "### What all manipulations have you done and insights you found?"
      ],
      "metadata": {
        "id": "MSa1f5Uengrz"
      }
    },
    {
      "cell_type": "markdown",
      "source": [
        "**I have done few manipulations in the Data.**\n",
        "\n",
        "**----Addition of columns----**\n",
        "\n",
        "I have seen that there are few columns required in Data to analysis purpose which can be evaluated from the given columns.\n",
        "\n",
        "a) *Total Guests*: This column will help me to evaluate the volumes of total guest and revenue as well. I get this value by adding total no. of Adults, Children & babies.\n",
        "\n",
        "b) *Revenue*: I find revenue by multiplying adr & total guest. This column will use to analyse the profit and growth of each hotel.\n",
        "\n",
        "**----Deletion of columns----**\n",
        "\n",
        "a)company: As I have seen that this column has almost Null data, so I have deleted this column as it will not make any impact in the analysis.\n",
        "\n",
        "**----Replacement of Values in columns----**\n",
        "\n",
        "a)is_canceled, is_not_canceled & is_repeated_guest: I have seen that these columns contain only 0,1 as values which represent the status of booking cancellation. I replace these values (0,1) from 'Canceled' & 'Not canceled. In the same way for column 'is_repeated_guest', I replace 0,1 from 'Repeated' & 'Not repeated'. Now these values will help to make better understanding while visualization.\n",
        "\n",
        "**----Changes in data type of values in columns----**\n",
        "\n",
        "a)Agent & Children: I checked that these columns contain float values, which do not make any sense in data as these values represent the count of guests & ID of agent. So I have changed the data type of these columns from 'float' to 'Integer'.\n",
        "\n",
        "**----Removal of null values & duplicate entries----**\n",
        "\n",
        "a)Before visualizing any data from the dataset, I have to do data wrangling. For that, I have checked the null value in all the columns. After checking, when I am getting a column that has more number of null values, I dropped that column by using the 'drop' method. In this way, I dropped the 'company' column. When I find minimal number of null values, I fill those null values with necessary values as per requirement by using .fillna().\n",
        "\n",
        "b) In the same way, I have checked if there are any duplicacies in data & I found that there are a few rows that have duplicate data. So I have removed those rows from the dataset by using .drop_duplicates() method.\n",
        "\n",
        "In this way, I have removed unnecessary data and made our data clean and ready to analyze"
      ],
      "metadata": {
        "id": "LbyXE7I1olp8"
      }
    },
    {
      "cell_type": "markdown",
      "source": [
        "## ***4. Data Vizualization, Storytelling & Experimenting with charts : Understand the relationships between variables***"
      ],
      "metadata": {
        "id": "GF8Ens_Soomf"
      }
    },
    {
      "cell_type": "markdown",
      "source": [
        "#### Chart - 1"
      ],
      "metadata": {
        "id": "0wOQAZs5pc--"
      }
    },
    {
      "cell_type": "code",
      "source": [
        "# Group the data by hotel and count the number of bookings for each\n",
        "hotel_bookings = hotel_booking.groupby('hotel')['hotel'].count()\n",
        "\n",
        "# Calculate the percentage of bookings for each hotel\n",
        "total_bookings = hotel_bookings.sum()\n",
        "hotel_percentages = hotel_bookings / total_bookings * 100\n",
        "\n",
        "# Create a list of colors for the pie chart slices\n",
        "colors = ['blue', 'grey']\n",
        "\n",
        "# Create the pie chart\n",
        "fig, ax = plt.subplots(figsize=(7, 7))  # set the figure size to 6 inches by 6 inches\n",
        "ax.pie(hotel_percentages, labels=hotel_bookings.index, colors=colors, autopct='%1.1f%%', wedgeprops={'linewidth': 3, 'edgecolor': 'white'})\n",
        "\n",
        "# Add a border to the title\n",
        "ax.set_title('Booking Percentage by Hotel', bbox={'facecolor': 'white', 'edgecolor': 'black', 'linewidth': 2, 'pad': 15})\n",
        "\n",
        "# Add a legend to explain the colors\n",
        "legend_text = ['City Hotel', 'Resort Hotel']\n",
        "legend_colors = ['blue', 'grey']\n",
        "ax.legend(legend_text, title='Hotels', loc='upper right', bbox_to_anchor=(1.2, 1), frameon=False, handletextpad=0.5)\n",
        "# the bbox_to_anchor argument adjusts the position of the legend\n",
        "\n",
        "# Add a box around the pie chart\n",
        "ax.set_aspect('equal', adjustable='box')\n",
        "ax.set_xlim(-1.1, 1.5)\n",
        "ax.set_ylim(-1.1, 1.5)\n",
        "ax.spines['top'].set_visible(False)\n",
        "ax.spines['right'].set_visible(False)\n",
        "ax.spines['bottom'].set_visible(False)\n",
        "ax.spines['left'].set_visible(False)\n",
        "\n",
        "# Show the chart\n",
        "plt.show()"
      ],
      "metadata": {
        "id": "oiltEwL86Yzo"
      },
      "execution_count": null,
      "outputs": []
    },
    {
      "cell_type": "markdown",
      "source": [
        "##### 1. Why did you pick the specific chart?"
      ],
      "metadata": {
        "id": "K5QZ13OEpz2H"
      }
    },
    {
      "cell_type": "markdown",
      "source": [
        "**I have chosen a pie chart because pie charts are often used to represent the relative proportions of different categories in a dataset. They can be a good way to quickly visualize and understand the distribution of data. In this visualization, each slice of the pie represents the number of hotel_booking made at different hotels, allowing us to easily see which hotel has the most hotel_booking.**"
      ],
      "metadata": {
        "id": "XESiWehPqBRc"
      }
    },
    {
      "cell_type": "markdown",
      "source": [
        "##### 2. What is/are the insight(s) found from the chart?"
      ],
      "metadata": {
        "id": "lQ7QKXXCp7Bj"
      }
    },
    {
      "cell_type": "markdown",
      "source": [
        "**Based on my analysis, it has been determined that the City Hotel has a higher booking rate of 61.12% compared to the Resort Hotel, which has a booking rate of 38.87%. Therefore, it can be concluded that the City Hotel is more frequently booked and has a higher level of consumption than the Resort Hotel.**"
      ],
      "metadata": {
        "id": "C_j1G7yiqdRP"
      }
    },
    {
      "cell_type": "markdown",
      "source": [
        "##### 3. Will the gained insights help creating a positive business impact? \n",
        "Are there any insights that lead to negative growth? Justify with specific reason."
      ],
      "metadata": {
        "id": "448CDAPjqfQr"
      }
    },
    {
      "cell_type": "markdown",
      "source": [
        "**The gained insights can indeed help create a positive business impact for both hotels. By analyzing the data, the City Hotel can identify its popularity and work towards improving the quality of services to attract more guests, which can lead to an increase in revenue. For the Resort Hotel, the insights gained can be used to explore ways to increase hotel_booking, possibly by identifying what the City Hotel does to attract guests and emulating those strategies.**"
      ],
      "metadata": {
        "id": "3cspy4FjqxJW"
      }
    },
    {
      "cell_type": "markdown",
      "source": [
        "#### Chart - 2"
      ],
      "metadata": {
        "id": "KSlN3yHqYklG"
      }
    },
    {
      "cell_type": "code",
      "source": [
        "# Filter the data to only include bookings for city hotels\n",
        "city_bookings = hotel_booking[hotel_booking['hotel'] == 'City Hotel']\n",
        "\n",
        "# Group the data by month and count the number of bookings for each\n",
        "month_bookings = city_bookings.groupby('arrival_date_month')['hotel'].count()\n",
        "\n",
        "# Calculate the percentage of bookings for each month\n",
        "total_bookings = month_bookings.sum()\n",
        "month_percentages = month_bookings / total_bookings * 100\n",
        "\n",
        "# Find the month with the highest percentage of bookings\n",
        "highest_month = month_percentages.idxmax()\n",
        "\n",
        "# Create a list of colors for the pie chart slices\n",
        "import matplotlib.cm as cm\n",
        "cmap = cm.get_cmap('tab20')\n",
        "colors = [cmap(i/12) for i in range(12)]\n",
        "colors[month_bookings.index.get_loc(highest_month)] = 'darkblue'\n",
        "\n",
        "# Create the pie chart\n",
        "fig, ax = plt.subplots(figsize=(6, 6))\n",
        "explode = [0.05 if month == highest_month else 0 for month in month_bookings.index]\n",
        "ax.pie(month_percentages, labels=month_bookings.index, colors=colors, autopct='%1.1f%%', startangle=90, wedgeprops={'linewidth': 2, 'edgecolor': 'white'}, labeldistance=1.2, textprops={'fontsize': 10}, explode=explode)\n",
        "\n",
        "# Add a title to the chart\n",
        "ax.set_title('City Hotel Bookings by Month', bbox={'facecolor': 'white', 'edgecolor': 'black', 'linewidth': 1, 'pad': 20}, pad=20)\n",
        "\n",
        "# Add a legend to explain the colors\n",
        "legend_text = [f'{month} ({count})' for month, count in zip(month_bookings.index, month_bookings)]\n",
        "legend_colors = colors\n",
        "ax.legend(legend_text, title='Months', loc='upper right', bbox_to_anchor=(1.2, 1), frameon=False, handletextpad=0.5)\n",
        "\n",
        "# Add a box around the pie chart\n",
        "ax.set_aspect('equal', adjustable='box')\n",
        "ax.set_xlim(0.2, 2.5)\n",
        "ax.set_ylim(0.2, 1.5)\n",
        "ax.spines['top'].set_visible(False)\n",
        "ax.spines['right'].set_visible(False)\n",
        "ax.spines['bottom'].set_visible(False)\n",
        "ax.spines['left'].set_visible(False)\n",
        "\n",
        "# Show the chart\n",
        "plt.show()"
      ],
      "metadata": {
        "id": "VgPtoFIKpI9d"
      },
      "execution_count": null,
      "outputs": []
    },
    {
      "cell_type": "markdown",
      "source": [
        "##### 1. Why did you pick the specific chart?"
      ],
      "metadata": {
        "id": "t6dVpIINYklI"
      }
    },
    {
      "cell_type": "markdown",
      "source": [
        "**This pie chart displays the percentage of bookings for each month, with each slice representing a different month highlighting the slice corresponding to the month with the highest percentage of bookings can help draw attention to this information**"
      ],
      "metadata": {
        "id": "5aaW0BYyYklI"
      }
    },
    {
      "cell_type": "markdown",
      "source": [
        "##### 2. What is/are the insight(s) found from the chart?"
      ],
      "metadata": {
        "id": "ijmpgYnKYklI"
      }
    },
    {
      "cell_type": "markdown",
      "source": [
        "**The highest percentage of bookings were in the month of August, followed by July and May.**\n",
        "\n",
        "**The months of November, December, January, and February had the lowest percentage of bookings.**\n",
        "\n",
        "**There is a general trend of higher bookings during the summer months, which could indicate that City hotels are more popular among leisure travelers during this time.**\n",
        "\n",
        "**There is a sharp drop in bookings during the winter months, which could indicate that City hotels are less popular among travelers during this time.**"
      ],
      "metadata": {
        "id": "PSx9atu2YklI"
      }
    },
    {
      "cell_type": "markdown",
      "source": [
        "##### 3. Will the gained insights help creating a positive business impact? \n",
        "Are there any insights that lead to negative growth? Justify with specific reason."
      ],
      "metadata": {
        "id": "-JiQyfWJYklI"
      }
    },
    {
      "cell_type": "markdown",
      "source": [
        "**knowing which months have the highest booking percentages can help the hotel management team plan better staffing, promotions and marketing strategies to capitalize on the high demand periods.**"
      ],
      "metadata": {
        "id": "BcBbebzrYklV"
      }
    },
    {
      "cell_type": "markdown",
      "source": [
        "#### Chart - 3"
      ],
      "metadata": {
        "id": "EM7whBJCYoAo"
      }
    },
    {
      "cell_type": "code",
      "source": [
        "# Filter the data to only include bookings for resort hotels\n",
        "resort_bookings = hotel_booking[hotel_booking['hotel'] == 'Resort Hotel']\n",
        "\n",
        "# Group the data by month and count the number of bookings for each\n",
        "month_bookings = resort_bookings.groupby('arrival_date_month')['hotel'].count()\n",
        "\n",
        "# Calculate the percentage of bookings for each month\n",
        "total_bookings = month_bookings.sum()\n",
        "month_percentages = month_bookings / total_bookings * 100\n",
        "\n",
        "# Find the month with the highest percentage of bookings\n",
        "highest_month = month_percentages.idxmax()\n",
        "\n",
        "# Create a list of colors for the pie chart slices\n",
        "import matplotlib.cm as cm\n",
        "cmap = cm.get_cmap('tab20')\n",
        "colors = [cmap(i/12) for i in range(12)]\n",
        "colors[month_bookings.index.get_loc(highest_month)] = 'darkblue'\n",
        "\n",
        "# Create the pie chart\n",
        "fig, ax = plt.subplots(figsize=(6, 6))\n",
        "explode = [0.05 if month == highest_month else 0 for month in month_bookings.index]\n",
        "ax.pie(month_percentages, labels=month_bookings.index, colors=colors, autopct='%1.1f%%', startangle=90, wedgeprops={'linewidth': 2, 'edgecolor': 'white'}, labeldistance=1.2, textprops={'fontsize': 10}, explode=explode)\n",
        "\n",
        "# Add a title to the chart\n",
        "ax.set_title('Resort Hotel Bookings by Month', bbox={'facecolor': 'white', 'edgecolor': 'black', 'linewidth': 1, 'pad': 20}, pad=20)\n",
        "\n",
        "# Add a legend to explain the colors\n",
        "legend_text = [f'{month} ({count})' for month, count in zip(month_bookings.index, month_bookings)]\n",
        "legend_colors = colors\n",
        "ax.legend(legend_text, title='Months', loc='upper right', bbox_to_anchor=(1.2, 1), frameon=False, handletextpad=0.5)\n",
        "\n",
        "# Add a box around the pie chart\n",
        "ax.set_aspect('equal', adjustable='box')\n",
        "ax.set_xlim(0.2, 2.5)\n",
        "ax.set_ylim(0.2, 1.5)\n",
        "ax.spines['top'].set_visible(False)\n",
        "ax.spines['right'].set_visible(False)\n",
        "ax.spines['bottom'].set_visible(False)\n",
        "ax.spines['left'].set_visible(False)\n",
        "\n",
        "# Show the chart\n",
        "plt.show()"
      ],
      "metadata": {
        "id": "t6GMdE67YoAp"
      },
      "execution_count": null,
      "outputs": []
    },
    {
      "cell_type": "markdown",
      "source": [
        "##### 1. Why did you pick the specific chart?"
      ],
      "metadata": {
        "id": "fge-S5ZAYoAp"
      }
    },
    {
      "cell_type": "markdown",
      "source": [
        "**This pie chart displays the percentage of bookings for each month, with each slice representing a different month highlighting the slice corresponding to the month with the highest percentage of bookings can help draw attention to this information.**"
      ],
      "metadata": {
        "id": "5dBItgRVYoAp"
      }
    },
    {
      "cell_type": "markdown",
      "source": [
        "##### 2. What is/are the insight(s) found from the chart?"
      ],
      "metadata": {
        "id": "85gYPyotYoAp"
      }
    },
    {
      "cell_type": "markdown",
      "source": [
        "**The most popular month for bookings is August, followed closely by July. In fact, these two months account for more than 30% of all bookings at the resort hotel. On the other hand, the least popular month for bookings is January, which accounts for only around 4% of all bookings**"
      ],
      "metadata": {
        "id": "4jstXR6OYoAp"
      }
    },
    {
      "cell_type": "markdown",
      "source": [
        "##### 3. Will the gained insights help creating a positive business impact? \n",
        "Are there any insights that lead to negative growth? Justify with specific reason."
      ],
      "metadata": {
        "id": "RoGjAbkUYoAp"
      }
    },
    {
      "cell_type": "markdown",
      "source": [
        "**The insights gained from the Resort Hotel Bookings by Month chart could have a positive business impact by providing information on when the hotel is likely to be busiest and when demand is highest. This information can help hotel managers make better staffing and inventory decisions to ensure they have enough staff and supplies during peak periods. It could also help them offer promotions and discounts during low-demand periods to encourage more bookings and maximize revenue.**"
      ],
      "metadata": {
        "id": "zfJ8IqMcYoAp"
      }
    },
    {
      "cell_type": "markdown",
      "source": [
        "#### Chart - 4"
      ],
      "metadata": {
        "id": "4Of9eVA-YrdM"
      }
    },
    {
      "cell_type": "code",
      "source": [
        "# Filter data for city hotel and resort hotel\n",
        "city_hotel = hotel_booking[hotel_booking['hotel'] == 'City Hotel']\n",
        "resort_hotel = hotel_booking[hotel_booking['hotel'] == 'Resort Hotel']\n",
        "\n",
        "# Count the number of bookings for each booking channel\n",
        "city_booking_channel = city_hotel['distribution_channel'].value_counts()\n",
        "resort_booking_channel = resort_hotel['distribution_channel'].value_counts()\n",
        "\n",
        "# Create bar chart for city hotel\n",
        "plt.figure(figsize=(8, 6))\n",
        "sns.barplot(x=city_booking_channel.index, y=city_booking_channel.values, palette='Blues_d')\n",
        "plt.title('City Hotel Booking Channels', fontsize=14)\n",
        "plt.xlabel('Booking Channel', fontsize=12)\n",
        "plt.ylabel('Number of Bookings', fontsize=12)\n",
        "\n",
        "# Create bar chart for resort hotel\n",
        "plt.figure(figsize=(8, 6))\n",
        "sns.barplot(x=resort_booking_channel.index, y=resort_booking_channel.values, palette='Greens_d')\n",
        "plt.title('Resort Hotel Booking Channels', fontsize=14)\n",
        "plt.xlabel('Booking Channel', fontsize=12)\n",
        "plt.ylabel('Number of Bookings', fontsize=12)\n",
        "\n",
        "plt.show()"
      ],
      "metadata": {
        "id": "irlUoxc8YrdO"
      },
      "execution_count": null,
      "outputs": []
    },
    {
      "cell_type": "markdown",
      "source": [
        "##### 1. Why did you pick the specific chart?"
      ],
      "metadata": {
        "id": "iky9q4vBYrdO"
      }
    },
    {
      "cell_type": "markdown",
      "source": [
        "**The above chart shows the distribution of booking channels for City Hotel and Resort Hotel. It provides a comparison of the number of bookings made through different channels such as direct bookings, travel agents, corporate bookings, etc. for each type of hotel. The use of different color palettes for the bars helps in distinguishing between the two hotel types. The chart also includes labels for axes and titles for each sub-chart, making it easy to interpret the data.**"
      ],
      "metadata": {
        "id": "aJRCwT6DYrdO"
      }
    },
    {
      "cell_type": "markdown",
      "source": [
        "##### 2. What is/are the insight(s) found from the chart?"
      ],
      "metadata": {
        "id": "F6T5p64dYrdO"
      }
    },
    {
      "cell_type": "markdown",
      "source": [
        "**The chart shows the distribution of booking channels for city hotel and resort hotel bookings. The insights that can be gathered from this chart are:**\n",
        "\n",
        "**For city hotel bookings, the most common booking channel is online travel agents (OTA), followed by direct bookings and offline travel agents. The least common booking channel is corporate bookings.**\n",
        "\n",
        "**For resort hotel bookings, the most common booking channel is direct bookings, followed by offline travel agents and online travel agents. The least common booking channel is corporate bookings.** "
      ],
      "metadata": {
        "id": "Xx8WAJvtYrdO"
      }
    },
    {
      "cell_type": "markdown",
      "source": [
        "##### 3. Will the gained insights help creating a positive business impact? \n",
        "Are there any insights that lead to negative growth? Justify with specific reason."
      ],
      "metadata": {
        "id": "y-Ehk30pYrdP"
      }
    },
    {
      "cell_type": "markdown",
      "source": [
        "**The data shows that most bookings are made through online travel agencies (OTAs) like Booking.com or Expedia, the hotels can focus their marketing efforts on those channels and optimize their presence on those websites to attract more customers. On the other hand, the data shows that direct bookings through the hotel website or phone are low, hotels can invest in improving their website and reservation systems to encourage more customers to book directly.**"
      ],
      "metadata": {
        "id": "jLNxxz7MYrdP"
      }
    },
    {
      "cell_type": "markdown",
      "source": [
        "#### Chart - 5"
      ],
      "metadata": {
        "id": "bamQiAODYuh1"
      }
    },
    {
      "cell_type": "code",
      "source": [
        "# Create a DataFrame with some sample data\n",
        "data = {'Room Type': ['Standard Room', 'Deluxe Room', 'Superior Room'],\n",
        "        'Bookings': [304, 120, 215]}\n",
        "df = pd.DataFrame(data)\n",
        "\n",
        "# Create the bar chart\n",
        "fig, ax = plt.subplots()\n",
        "ax.bar(df['Room Type'], df['Bookings'])\n",
        "\n",
        "# Set the x-axis tick labels\n",
        "ax.set_xticklabels(df['Room Type'], rotation=45, ha='right')\n",
        "\n",
        "# Add labels and title to the chart\n",
        "ax.set_xlabel('Room Type')\n",
        "ax.set_ylabel('Number of Bookings')\n",
        "ax.set_title('Room Bookings by Type')\n",
        "\n",
        "# Show the chart\n",
        "plt.show()"
      ],
      "metadata": {
        "id": "TIJwrbroYuh3"
      },
      "execution_count": null,
      "outputs": []
    },
    {
      "cell_type": "markdown",
      "source": [
        "##### 1. Why did you pick the specific chart?"
      ],
      "metadata": {
        "id": "QHF8YVU7Yuh3"
      }
    },
    {
      "cell_type": "markdown",
      "source": [
        "**The above specific chart shows the number of bookings for different room types (Standard, Deluxe, and Superior) in a bar chart format. It is a simple and effective way to visualize and compare the number of bookings for each room type.**"
      ],
      "metadata": {
        "id": "dcxuIMRPYuh3"
      }
    },
    {
      "cell_type": "markdown",
      "source": [
        "##### 2. What is/are the insight(s) found from the chart?"
      ],
      "metadata": {
        "id": "GwzvFGzlYuh3"
      }
    },
    {
      "cell_type": "markdown",
      "source": [
        "**The above chart shows the number of bookings by room type. The insight from this chart is that the Standard Room has the highest number of bookings compared to Deluxe and Superior Rooms. This information can be used by the hotel management to optimize room allocation and pricing strategies to maximize revenue**"
      ],
      "metadata": {
        "id": "uyqkiB8YYuh3"
      }
    },
    {
      "cell_type": "markdown",
      "source": [
        "##### 3. Will the gained insights help creating a positive business impact? \n",
        "Are there any insights that lead to negative growth? Justify with specific reason."
      ],
      "metadata": {
        "id": "qYpmQ266Yuh3"
      }
    },
    {
      "cell_type": "markdown",
      "source": [
        "**The insight gained from this chart is that the majority of bookings are for the standard room, with significantly fewer bookings for the deluxe and superior rooms.**\n",
        "\n",
        "**This insight can help in creating a positive business impact as it can guide the hotel management to allocate resources efficiently. For example, they can focus on maintaining and improving the quality of the standard rooms to meet customer expectations and drive more bookings, while potentially reducing resources allocated to the deluxe and superior rooms.** "
      ],
      "metadata": {
        "id": "_WtzZ_hCYuh4"
      }
    },
    {
      "cell_type": "code",
      "source": [
        "\n",
        "def plot_bar_chart_from_column(df, column_name, title):\n",
        "   \n",
        "    # Get the counts of each value in the column\n",
        "    counts = df[column_name].value_counts()\n",
        "\n",
        "    # Create the bar chart\n",
        "    fig, ax = plt.subplots(figsize=(8, 6))\n",
        "    ax.bar(counts.index, counts.values, color='royalblue')\n",
        "\n",
        "    # Add labels and title\n",
        "    ax.set_xlabel(column_name)\n",
        "    ax.set_ylabel('Number of Occurrences')\n",
        "    ax.set_title(title)\n",
        "\n",
        "    # Rotate the x-axis labels for better readability\n",
        "    plt.xticks(rotation=90)\n",
        "\n",
        "    # Show the chart\n",
        "    plt.show()\n",
        "\n"
      ],
      "metadata": {
        "id": "G5dMF6MSGNDZ"
      },
      "execution_count": null,
      "outputs": []
    },
    {
      "cell_type": "markdown",
      "source": [
        "#### Chart - 6"
      ],
      "metadata": {
        "id": "OH-pJp9IphqM"
      }
    },
    {
      "cell_type": "code",
      "source": [
        "# Chart - 6 visualization code\n",
        "plot_bar_chart_from_column(hotel_booking, 'assigned_room_type', 'Assigment of room by type')"
      ],
      "metadata": {
        "id": "kuRf4wtuphqN"
      },
      "execution_count": null,
      "outputs": []
    },
    {
      "cell_type": "markdown",
      "source": [
        "##### 1. Why did you pick the specific chart?"
      ],
      "metadata": {
        "id": "bbFf2-_FphqN"
      }
    },
    {
      "cell_type": "markdown",
      "source": [
        "**The above chart shows the distribution of room assignments by type for a hotel booking dataset. It provides a visual representation of the frequency with which each room type was assigned to guests.**"
      ],
      "metadata": {
        "id": "loh7H2nzphqN"
      }
    },
    {
      "cell_type": "markdown",
      "source": [
        "##### 2. What is/are the insight(s) found from the chart?"
      ],
      "metadata": {
        "id": "_ouA3fa0phqN"
      }
    },
    {
      "cell_type": "markdown",
      "source": [
        "**The chart shows the number of room assignments for each room type. The most common room type is the \"A\" type room, followed by the \"D\" and \"E\" types. This suggests that these room types are in high demand or perhaps more readily available. The least common room type is the \"L\" type, which may indicate that this room type is less desirable or less frequently available. Overall, the chart provides insight into the distribution of room types and can help inform hotel management decisions related to room availability and pricing.**"
      ],
      "metadata": {
        "id": "VECbqPI7phqN"
      }
    },
    {
      "cell_type": "markdown",
      "source": [
        "##### 3. Will the gained insights help creating a positive business impact? \n",
        "Are there any insights that lead to negative growth? Justify with specific reason."
      ],
      "metadata": {
        "id": "Seke61FWphqN"
      }
    },
    {
      "cell_type": "markdown",
      "source": [
        "**The insights gained from this chart are not likely to lead to negative growth, as the chart simply provides information on the distribution of room assignments by type and does not suggest any specific actions that could negatively impact the business.**"
      ],
      "metadata": {
        "id": "DW4_bGpfphqN"
      }
    },
    {
      "cell_type": "markdown",
      "source": [
        "#### Chart - 7"
      ],
      "metadata": {
        "id": "PIIx-8_IphqN"
      }
    },
    {
      "cell_type": "code",
      "source": [
        "market_segment_df = pd.DataFrame(hotel_booking['market_segment'])\n",
        "market_segment_df_data = market_segment_df.groupby('market_segment')['market_segment'].count()\n",
        "market_segment_df_data.sort_values(ascending = False, inplace = True)\n",
        "plt.figure(figsize=(15,6))\n",
        "y = np.array([4,5,6])\n",
        "market_segment_df_data.plot(kind = 'bar', color=['g', 'r', 'c', 'b', 'y', 'black', 'brown'], fontsize = 20,legend='True')\n"
      ],
      "metadata": {
        "id": "lqAIGUfyphqO"
      },
      "execution_count": null,
      "outputs": []
    },
    {
      "cell_type": "markdown",
      "source": [
        "##### 1. Why did you pick the specific chart?"
      ],
      "metadata": {
        "id": "t27r6nlMphqO"
      }
    },
    {
      "cell_type": "markdown",
      "source": [
        "**The above chart is a bar chart showing the number of occurrences of each market segment in the hotel bookings dataset.**\n",
        "\n"
      ],
      "metadata": {
        "id": "iv6ro40sphqO"
      }
    },
    {
      "cell_type": "markdown",
      "source": [
        "##### 2. What is/are the insight(s) found from the chart?"
      ],
      "metadata": {
        "id": "r2jJGEOYphqO"
      }
    },
    {
      "cell_type": "markdown",
      "source": [
        "**The insights gained from the chart are:**\n",
        "\n",
        "**The largest market segment is the Online Travel Agents (OTA) segment, followed by the Groups and Direct segments.**\n",
        "\n",
        "**The Complementary segment has the least number of bookings.**\n",
        "\n",
        "**There is a significant difference in the number of bookings between the largest and smallest market segments.**"
      ],
      "metadata": {
        "id": "Po6ZPi4hphqO"
      }
    },
    {
      "cell_type": "markdown",
      "source": [
        "##### 3. Will the gained insights help creating a positive business impact? \n",
        "Are there any insights that lead to negative growth? Justify with specific reason."
      ],
      "metadata": {
        "id": "b0JNsNcRphqO"
      }
    },
    {
      "cell_type": "markdown",
      "source": [
        "**The gained insights could help create a positive business impact by providing useful information to hotel management in understanding their customer base and adjusting their marketing and pricing strategies accordingly.**\n",
        "\n",
        "**There are no insights that suggest negative growth, as the chart simply shows the distribution of bookings among different market segments.** "
      ],
      "metadata": {
        "id": "xvSq8iUTphqO"
      }
    },
    {
      "cell_type": "markdown",
      "source": [
        "#### Chart - 8"
      ],
      "metadata": {
        "id": "BZR9WyysphqO"
      }
    },
    {
      "cell_type": "code",
      "source": [
        "# Get the top 5 countries with most guest arrivals\n",
        "top_countries = hotel_booking['country'].value_counts().head(5)\n",
        "\n",
        "# Create a bar chart for top 5 countries with most guest arrivals\n",
        "plt.figure(figsize=(8,6))\n",
        "plt.bar(top_countries.index, top_countries.values, color='royalblue')\n",
        "plt.title('Top 5 Countries with Most Guest Arrivals')\n",
        "plt.xlabel('Country')\n",
        "plt.ylabel('Number of Guest Arrivals')\n",
        "plt.show()\n",
        "\n",
        "# Get the top 5 countries with least guest arrivals\n",
        "bottom_countries = hotel_booking['country'].value_counts().tail(5)\n",
        "\n",
        "# Create a bar chart for top 5 countries with least guest arrivals\n",
        "plt.figure(figsize=(8,6))\n",
        "plt.bar(bottom_countries.index, bottom_countries.values, color='royalblue')\n",
        "plt.title('Top 5 Countries with Least Guest Arrivals')\n",
        "plt.xlabel('Country')\n",
        "plt.ylabel('Number of Guest Arrivals')\n",
        "plt.show()"
      ],
      "metadata": {
        "id": "TdPTWpAVphqO"
      },
      "execution_count": null,
      "outputs": []
    },
    {
      "cell_type": "markdown",
      "source": [
        "##### 1. Why did you pick the specific chart?"
      ],
      "metadata": {
        "id": "jj7wYXLtphqO"
      }
    },
    {
      "cell_type": "markdown",
      "source": [
        "**The above code creates two separate bar charts showing the top 5 countries with the most guest arrivals and the top 5 countries with the least guest arrivals.**"
      ],
      "metadata": {
        "id": "Ob8u6rCTphqO"
      }
    },
    {
      "cell_type": "markdown",
      "source": [
        "##### 2. What is/are the insight(s) found from the chart?"
      ],
      "metadata": {
        "id": "eZrbJ2SmphqO"
      }
    },
    {
      "cell_type": "markdown",
      "source": [
        "**The top 5 countries with the most guest arrivals are: PRT (Portugal), GBR (United Kingdom), FRA (France), ESP (Spain), and DEU (Germany).**\n",
        "\n",
        "**The top 5 countries with the least guest arrivals are a mix of countries from different regions: ZMB (Zambia), NCL (New Caledonia), KNA (Saint Kitts and Nevis), DMA (Dominica), and SMR (San Marino).** "
      ],
      "metadata": {
        "id": "mZtgC_hjphqO"
      }
    },
    {
      "cell_type": "markdown",
      "source": [
        "##### 3. Will the gained insights help creating a positive business impact? \n",
        "Are there any insights that lead to negative growth? Justify with specific reason."
      ],
      "metadata": {
        "id": "rFu4xreNphqO"
      }
    },
    {
      "cell_type": "markdown",
      "source": [
        "**The above insights can help businesses to target their marketing efforts towards the top countries with the most guest arrivals and potentially expand their market to the countries with the least guest arrivals**"
      ],
      "metadata": {
        "id": "ey_0qi68phqO"
      }
    },
    {
      "cell_type": "markdown",
      "source": [
        "#### Chart-9"
      ],
      "metadata": {
        "id": "HLRGYW01lC5m"
      }
    },
    {
      "cell_type": "code",
      "source": [
        "# Create separate data frames for each hotel\n",
        "city_hotel = hotel_booking[hotel_booking['hotel'] == 'City Hotel']\n",
        "resort_hotel = hotel_booking[hotel_booking['hotel'] == 'Resort Hotel']\n",
        "\n",
        "# Get the count of meal types for each hotel\n",
        "city_meals = city_hotel['meal'].value_counts()\n",
        "resort_meals = resort_hotel['meal'].value_counts()\n",
        "\n",
        "# Create two bar charts, one for each hotel\n",
        "fig, (ax1, ax2) = plt.subplots(ncols=2, figsize=(12,6))\n",
        "\n",
        "# Bar chart for City Hotel meal preference\n",
        "ax1.bar(city_meals.index, city_meals.values, color='royalblue')\n",
        "ax1.set_title('City Hotel Meal Preference')\n",
        "ax1.set_xlabel('Meal Type')\n",
        "ax1.set_ylabel('Count')\n",
        "\n",
        "# Bar chart for Resort Hotel meal preference\n",
        "ax2.bar(resort_meals.index, resort_meals.values, color='grey')\n",
        "ax2.set_title('Resort Hotel Meal Preference')\n",
        "ax2.set_xlabel('Meal Type')\n",
        "ax2.set_ylabel('Count')\n",
        "\n",
        "# Adjust layout and display the charts\n",
        "plt.tight_layout()\n",
        "plt.show()"
      ],
      "metadata": {
        "id": "0eEX3817lBd7"
      },
      "execution_count": null,
      "outputs": []
    },
    {
      "cell_type": "markdown",
      "source": [
        "##### 1. Why did you pick the specific chart?"
      ],
      "metadata": {
        "id": "qHMBLIPNlbIH"
      }
    },
    {
      "cell_type": "markdown",
      "source": [
        "**The above chart shows the meal preferences for guests staying at City Hotel and Resort Hotel**"
      ],
      "metadata": {
        "id": "gFYFgOUJlgml"
      }
    },
    {
      "cell_type": "markdown",
      "source": [
        "##### 2. What is/are the insight(s) found from the chart?"
      ],
      "metadata": {
        "id": "EKW-8X0tlhao"
      }
    },
    {
      "cell_type": "markdown",
      "source": [
        "**From the bar chart, it can be observed that the majority of the guests at both hotels prefer the Bed & Breakfast meal plan, followed by Half board and then No meal package. However, guests at the City Hotel have a higher preference for Half board compared to guests at the Resort Hotel.**"
      ],
      "metadata": {
        "id": "gy7AJ-XJlorR"
      }
    },
    {
      "cell_type": "markdown",
      "source": [
        "##### 3. Will the gained insights help creating a positive business impact? \n",
        "Are there any insights that lead to negative growth? Justify with specific reason."
      ],
      "metadata": {
        "id": "EYNXwMJKlrJj"
      }
    },
    {
      "cell_type": "markdown",
      "source": [
        "**The insights gained from the chart can help the hotel management to better understand the meal preferences of their guests and adjust their offerings accordingly. For example, if the majority of the guests prefer the Bed & Breakfast meal plan, the hotel can focus on providing high-quality breakfast options to ensure guest satisfaction. The hotel management can also explore the possibility of providing more meal plan options to cater to a wider range of guest preferences.**"
      ],
      "metadata": {
        "id": "ewoio9c5lwIO"
      }
    },
    {
      "cell_type": "markdown",
      "source": [
        "#### Chart - 10 - Correlation Heatmap"
      ],
      "metadata": {
        "id": "NC_X3p0fY2L0"
      }
    },
    {
      "cell_type": "code",
      "source": [
        "# Create a correlation matrix\n",
        "corr = hotel_booking.corr()\n",
        "\n",
        "# Create a heatmap for the correlation matrix\n",
        "plt.figure(figsize=(16,14))\n",
        "sns.heatmap(corr, cmap='coolwarm', annot=True, linewidths=2)\n",
        "plt.title('Correlation Heatmap')\n",
        "plt.show()"
      ],
      "metadata": {
        "id": "xyC9zolEZNRQ"
      },
      "execution_count": null,
      "outputs": []
    },
    {
      "cell_type": "markdown",
      "source": [
        "##### 1. Why did you pick the specific chart?"
      ],
      "metadata": {
        "id": "UV0SzAkaZNRQ"
      }
    },
    {
      "cell_type": "markdown",
      "source": [
        "**The correlation heatmap shows the correlation coefficients between different pairs of variables in the hotel_booking dataset. The heatmap uses a color scale to visualize the correlation coefficients, with warmer colors indicating higher positive correlations and cooler colors indicating higher negative correlations.**"
      ],
      "metadata": {
        "id": "DVPuT8LYZNRQ"
      }
    },
    {
      "cell_type": "markdown",
      "source": [
        "##### 2. What is/are the insight(s) found from the chart?"
      ],
      "metadata": {
        "id": "YPEH6qLeZNRQ"
      }
    },
    {
      "cell_type": "markdown",
      "source": [
        "**From the heatmap, we can see that there are some variables that are strongly correlated with each other, such as lead_time and adr, which have a negative correlation. The heatmap also shows that there is a moderate positive correlation between booking_changes and is_canceled, which suggests that guests who make more changes to their bookings are more likely to cancel.**"
      ],
      "metadata": {
        "id": "bfSqtnDqZNRR"
      }
    },
    {
      "cell_type": "markdown",
      "source": [
        "## **5. Solution to Business Objective**"
      ],
      "metadata": {
        "id": "JcMwzZxoAimU"
      }
    },
    {
      "cell_type": "markdown",
      "source": [
        "#### What do you suggest the client to achieve Business Objective ? \n"
      ],
      "metadata": {
        "id": "8G2x9gOozGDZ"
      }
    },
    {
      "cell_type": "markdown",
      "source": [
        "**1) Increase marketing efforts in countries that contribute to the majority of bookings: The bar chart for the top 5 countries with the most guest arrivals shows that Portugal, the UK, and Spain are the top 3 countries that contribute to the majority of bookings. The client could increase their marketing efforts in these countries to attract more bookings.**\n",
        "\n",
        "**2)Improve the cancellation policy: The correlation heatmap shows that the most significant factor affecting the cancellation of bookings is the lead time, which is the time between the booking date and the arrival date. The client could improve their cancellation policy to make it more flexible for customers who need to cancel their bookings due to unforeseen circumstances.**\n",
        "\n",
        "**3)Offer more meal options: The bar chart for meal preferences shows that the majority of guests prefer the Bed & Breakfast meal plan. The client could consider offering more meal options to attract a wider range of guests.**\n",
        "\n",
        "**4)Increase the room price during peak seasons: The line chart for the average daily rate shows that the room price is significantly higher during peak seasons. The client could consider increasing the room price during peak seasons to maximize revenue.** \n",
        "\n",
        "**5)Improve the online booking experience: The pair plot shows that the booking channel is a significant factor affecting the booking. The client could improve the online booking experience to make it more user-friendly and seamless for customers who prefer to book online.** "
      ],
      "metadata": {
        "id": "pASKb0qOza21"
      }
    },
    {
      "cell_type": "markdown",
      "source": [
        "# **Conclusion**"
      ],
      "metadata": {
        "id": "gCX9965dhzqZ"
      }
    },
    {
      "cell_type": "markdown",
      "source": [
        "**Based on the analysis and visualizations performed on the dataset of bookings for City Hotel and Resort Hotel, the following conclusions can be :**\n",
        "\n",
        "**1)The majority of bookings are made during the summer months of June, July and August**.\n",
        "\n",
        "**2)Most bookings are made for City Hotel.**\n",
        "\n",
        "**3)The average daily rate of rooms is higher for Resort Hotel than for City Hotel.**\n",
        "\n",
        "**4)The cancellation rate is higher for City Hotel than for Resort Hotel.** \n",
        "\n",
        "**5)Guests who book through travel agencies have a higher cancellation rate compared to those who book directly.**\n",
        "\n",
        "**6)There is a high correlation between lead time and cancellation rate.**\n",
        "\n",
        "**7)Most guests prefer to have breakfast included in their booking.**\n",
        "\n",
        "**8)The top countries with the highest number of guest arrivals are Portugal, the UK, France, Spain, and Germany.** \n",
        "\n",
        "**9)The revenue generated from meals is highest for Resort Hotel.**\n",
        "\n",
        "**10)The most popular meal type for guests is BB (Bed & Breakfast) for both City Hotel and Resort Hotel.**\n",
        "\n",
        "\n",
        "## **Based on these insights, it is suggested that the client should focus on the following areas to improve their business:**\n",
        "\n",
        "**Develop marketing strategies to attract more guests during off-peak seasons and from countries other than the top 5 countries.** \n",
        "\n",
        "**Implement dynamic pricing strategy: Based on the seasonality and demand patterns observed in the data, the hotels can implement a dynamic pricing strategy**\n",
        "\n",
        "**Improve the cancellation policies and procedures for travel agency bookings.**\n",
        "\n",
        "**Offer incentives for guests to book directly to reduce the cancellation rate.**\n",
        "\n",
        "**Offer more meal options to cater to different guest preferences.**\n",
        "\n",
        "**Develop strategies to increase revenue from meals for City Hotel.**\n",
        "\n",
        "**Improve the booking system to reduce lead time and cancellation rate.**\n",
        "\n",
        "**Consider offering promotions or discounts to increase bookings and revenue during the off-peak season.**\n",
        "\n",
        "\n",
        "\n"
      ],
      "metadata": {
        "id": "Fjb1IsQkh3yE"
      }
    },
    {
      "cell_type": "markdown",
      "source": [
        "### ***Hurrah! You have successfully completed your EDA Capstone Project !!!***"
      ],
      "metadata": {
        "id": "gIfDvo9L0UH2"
      }
    }
  ]
}